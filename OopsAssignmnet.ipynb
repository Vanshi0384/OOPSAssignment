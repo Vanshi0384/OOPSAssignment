{
 "cells": [
  {
   "cell_type": "markdown",
   "id": "dd24ec48-2452-4356-80b6-56e0ceccc2fb",
   "metadata": {},
   "source": [
    "# OOPS Assignment"
   ]
  },
  {
   "cell_type": "markdown",
   "id": "c2563d6e-cc00-404c-bb83-888f18d60f59",
   "metadata": {},
   "source": [
    "Question 1:"
   ]
  },
  {
   "cell_type": "markdown",
   "id": "9115bcc0-c142-4f49-a19e-1313e5345488",
   "metadata": {},
   "source": [
    "In Object-Oriented Programming (OOP),  here's a breakdown of Class and Object concepts with an example:\n",
    "\n",
    "Class:\n",
    "\n",
    "A class is a blueprint or a template that defines the properties (attributes) and behavior (methods) of similar objects.\n",
    "It serves as a reusable specification for creating objects.\n",
    "A class itself doesn't hold any data or functionality; it defines the structure for objects to be built from.\n",
    "Object:\n",
    "\n",
    "An object is an instance of a class. It's a concrete entity that represents a real-world thing or concept.\n",
    "An object has its own set of attributes (data) and methods (functions) defined by the class.\n",
    "Objects can interact with each other by calling each other's methods."
   ]
  },
  {
   "cell_type": "code",
   "execution_count": null,
   "id": "82181b38-c879-4a60-8206-ef2e65015c19",
   "metadata": {},
   "outputs": [],
   "source": [
    "#For Example:\n",
    "my_car = Car()  # Create an object (instance) of the Car class\n",
    "my_car.model = \"Honda Civic\"\n",
    "my_car.color = \"Red\"\n",
    "my_car.year = 2020\n",
    "my_car.mileage = 30000\n"
   ]
  },
  {
   "cell_type": "markdown",
   "id": "a6dc2fd1-763d-433e-aea7-04904f85fc15",
   "metadata": {},
   "source": [
    "Question 2:"
   ]
  },
  {
   "cell_type": "markdown",
   "id": "4800faa4-2733-4223-b33c-51d0597eede9",
   "metadata": {},
   "source": [
    "The four pillars of Object-Oriented Programming (OOP) are:\n",
    "\n",
    "Encapsulation: Encapsulation refers to the bundling of data (attributes) and methods (functions) that operate on that data within a single unit called a class. This restricts direct access to the data and enforces controlled interaction through the defined methods.\n",
    "\n",
    "Abstraction: Abstraction focuses on providing a simplified view of an object, hiding unnecessary details and exposing only essential functionalities. It allows users to interact with an object without worrying about its internal implementation.\n",
    "\n",
    "Inheritance: Inheritance enables creating new classes (subclasses) that inherit properties and behaviors from existing classes (parent classes). Subclasses can add their own specific attributes and methods while also benefiting from the functionality of the parent class.\n",
    "\n",
    "Polymorphism: Polymorphism allows objects of different classes (but potentially sharing a common base class) to respond differently to the same method call. This enables flexible and dynamic behavior in programs."
   ]
  },
  {
   "cell_type": "markdown",
   "id": "3d96bcd7-c4fa-4510-aa59-2d48676896ee",
   "metadata": {},
   "source": [
    "Question 3:"
   ]
  },
  {
   "cell_type": "markdown",
   "id": "4e91795e-015c-472a-a6a8-e533d8e300f3",
   "metadata": {},
   "source": [
    "\n",
    "The __init__() function, also called a constructor, is a special method used to initialize objects in Python. It's automatically called when you create an object from a class. Here's a breakdown of its importance and a practical example:\n",
    "\n",
    "Purpose:\n",
    "\n",
    "The __init__() function is primarily used to initialize (assign values to) the attributes (data) of an object when it's created.\n",
    "It allows you to set up the initial state of the object, ensuring it has the necessary data to function as intended."
   ]
  },
  {
   "cell_type": "code",
   "execution_count": 2,
   "id": "0783840a-46fe-4787-9722-3e6089dac892",
   "metadata": {},
   "outputs": [
    {
     "name": "stdout",
     "output_type": "stream",
     "text": [
      "Title: The Hitchhiker's Guide to the Galaxy, Author: Douglas Adams, Year: 1979\n"
     ]
    }
   ],
   "source": [
    "class Book:\n",
    "\n",
    "  def __init__(self, title, author, year):\n",
    "    self.title = title\n",
    "    self.author = author\n",
    "    self.year = year\n",
    "\n",
    "  def get_info(self):\n",
    "  \n",
    "    return f\"Title: {self.title}, Author: {self.author}, Year: {self.year}\"\n",
    "\n",
    "# Create a Book object\n",
    "my_book = Book(\"The Hitchhiker's Guide to the Galaxy\", \"Douglas Adams\", 1979)\n",
    "\n",
    "# Print book information using the get_info() method\n",
    "print(my_book.get_info())\n"
   ]
  },
  {
   "cell_type": "markdown",
   "id": "4ec3d554-9f29-4882-9475-3c80a63cd8ff",
   "metadata": {},
   "source": [
    "Question 4:"
   ]
  },
  {
   "cell_type": "markdown",
   "id": "05a70894-1f40-407f-a0ae-0bdcec7160d0",
   "metadata": {},
   "source": [
    "In Object-Oriented Programming (OOP), the self parameter is a fundamental concept used within methods (functions) defined in a class. Here's a breakdown of why it's important:\n",
    "\n",
    "Purpose:\n",
    "\n",
    "The self parameter refers to the current object instance itself. It allows methods within a class to access and modify the attributes of the specific object they are called on.\n",
    "Without self, methods wouldn't be able to distinguish between attributes of different objects belonging to the same class."
   ]
  },
  {
   "cell_type": "code",
   "execution_count": 3,
   "id": "39fb3d30-2436-4e9f-9e8d-8d8576f29f18",
   "metadata": {},
   "outputs": [
    {
     "name": "stdout",
     "output_type": "stream",
     "text": [
      "Hello, my name is {self.name} and I am {self.age} years old.\n",
      "Hello, my name is {self.name} and I am {self.age} years old.\n"
     ]
    }
   ],
   "source": [
    "class Person:\n",
    "\n",
    "  def __init__(self, name, age):\n",
    "\n",
    "    self.name = name\n",
    "    self.age = age\n",
    "\n",
    "  def introduce(self):\n",
    "\n",
    "    print(\"Hello, my name is {self.name} and I am {self.age} years old.\")\n",
    "\n",
    "# Create Person objects\n",
    "person1 = Person(\"Alice\", 30)\n",
    "person2 = Person(\"Bob\", 25)\n",
    "\n",
    "# Call the introduce() method on each object\n",
    "person1.introduce()\n",
    "person2.introduce()\n"
   ]
  },
  {
   "cell_type": "markdown",
   "id": "a5ecb0b3-bb92-428b-a5e9-a4020eac72ce",
   "metadata": {},
   "source": [
    "Question 5:"
   ]
  },
  {
   "cell_type": "markdown",
   "id": "4f9ec9bb-8cd4-495f-9143-e267bc0300d1",
   "metadata": {},
   "source": [
    "\n",
    "Inheritance in Object-Oriented Programming (OOP) is a mechanism that allows you to create new classes (subclasses) that inherit properties and behaviors from existing classes (parent classes). Here's a breakdown of inheritance and its different types with examples:\n",
    "\n",
    "Inheritance Basics:\n",
    "\n",
    "A subclass inherits attributes and methods from its parent class.\n",
    "The subclass can add its own attributes and methods, specializing its functionality based on the parent class's foundation.\n",
    "Inheritance promotes code reusability and reduces redundancy by leveraging existing code in the parent class."
   ]
  },
  {
   "cell_type": "code",
   "execution_count": 4,
   "id": "d2f89724-8bbd-42e7-bd97-d789865a7d09",
   "metadata": {},
   "outputs": [
    {
     "name": "stdout",
     "output_type": "stream",
     "text": [
      "Lion is eating.\n",
      "Buddy is eating.\n",
      "Buddy the dog is barking.\n"
     ]
    }
   ],
   "source": [
    "# Single Inheritance:\n",
    "#A subclass inherits from one parent class. This is the most common and straightforward type of inheritance.\n",
    "\n",
    "class Animal:\n",
    "\n",
    "    def __init__(self, name):\n",
    "        self.name = name\n",
    "\n",
    "    def eat(self):\n",
    "        print(f\"{self.name} is eating.\")\n",
    "\n",
    "class Dog(Animal):\n",
    "    def __init__(self, name, breed):\n",
    "        super().__init__(name)  # Call the parent class constructor\n",
    "        self.breed = breed\n",
    "\n",
    "    def bark(self):\n",
    "        print(f\"{self.name} the dog is barking.\")\n",
    "\n",
    "# Create objects\n",
    "my_animal = Animal(\"Lion\")\n",
    "my_dog = Dog(\"Buddy\", \"Labrador\")\n",
    "\n",
    "# Call methods\n",
    "my_animal.eat()\n",
    "my_dog.eat()  # Inherited from Animal\n",
    "my_dog.bark()"
   ]
  },
  {
   "cell_type": "code",
   "execution_count": 5,
   "id": "180c2d6b-1bb0-46ab-9312-49f1d7329c21",
   "metadata": {},
   "outputs": [
    {
     "name": "stdout",
     "output_type": "stream",
     "text": [
      "{self.name} is breathing.\n",
      "{self.name} the canine is barking.\n",
      "{self.name} the dog is playing.\n"
     ]
    }
   ],
   "source": [
    "# Multiple Inheritance:\n",
    "# A subclass inherits from multiple parent classes. This can be useful when a subclass needs to combine functionalities from different classes, but it can also lead to complexity due to potential conflicts.\n",
    "\n",
    "class Mammal:\n",
    "\n",
    "    def __init__(self, name, fur_color):\n",
    "        self.name = name\n",
    "        self.fur_color = fur_color\n",
    "\n",
    "    def breathe(self):\n",
    "        print(\"{self.name} is breathing.\")\n",
    "\n",
    "class Canine:\n",
    "    def __init__(self, name, breed):\n",
    "        self.name = name\n",
    "        self.breed = breed\n",
    "\n",
    "    def bark(self):\n",
    "        print(\"{self.name} the canine is barking.\")\n",
    "\n",
    "class Dog(Mammal, Canine):\n",
    "\n",
    "    # No additional __init__ needed here due to inheritance from both parent classes\n",
    "\n",
    "    def play(self):\n",
    "        print(\"{self.name} the dog is playing.\")\n",
    "\n",
    "# Create object\n",
    "my_dog = Dog(\"Buddy\", \"Labrador\")\n",
    "\n",
    "# Call methods\n",
    "my_dog.breathe()  # Inherited from Mammal\n",
    "my_dog.bark()  # Inherited from Canine\n",
    "my_dog.play()"
   ]
  },
  {
   "cell_type": "code",
   "execution_count": 7,
   "id": "c96584e8-5d5e-4373-bdd0-4b92d071a5ee",
   "metadata": {},
   "outputs": [],
   "source": [
    "# Multilevel Inheritance:\n",
    "# A subclass inherits from another subclass, which in turn inherits from a parent class. This creates a hierarchy of classes with inheritance relationships at multiple levels.\n",
    "\n",
    "class Vehicle:\n",
    "\n",
    "    def __init__(self, make, model):\n",
    "        self.make = make\n",
    "        self.model = model\n",
    "\n",
    "    def move(self):\n",
    "        print(\"{self.make} {self.model} is moving.\")\n",
    "\n",
    "class Car(Vehicle):\n",
    "\n",
    "    def __init__(self, make, model, num_doors):\n",
    "        super().__init__(make, model)  # Call the parent class constructor\n",
    "        self.num_doors = num_doors\n",
    "\n",
    "class ElectricCar(Car):\n",
    "\n",
    "    def __init__(self, make, model, num_doors, battery_range):\n",
    "        super().__init__(make, model, num_doors)  # Call the parent class constructor\n",
    "        self.battery_range = battery_range\n"
   ]
  },
  {
   "cell_type": "code",
   "execution_count": null,
   "id": "b96caae2-58a8-4fad-b109-62e03b032a4d",
   "metadata": {},
   "outputs": [],
   "source": []
  }
 ],
 "metadata": {
  "kernelspec": {
   "display_name": "Python 3 (ipykernel)",
   "language": "python",
   "name": "python3"
  },
  "language_info": {
   "codemirror_mode": {
    "name": "ipython",
    "version": 3
   },
   "file_extension": ".py",
   "mimetype": "text/x-python",
   "name": "python",
   "nbconvert_exporter": "python",
   "pygments_lexer": "ipython3",
   "version": "3.10.8"
  }
 },
 "nbformat": 4,
 "nbformat_minor": 5
}
